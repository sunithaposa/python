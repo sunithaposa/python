{
 "cells": [
  {
   "cell_type": "markdown",
   "metadata": {},
   "source": [
    "import pymongo and create a database in MongoDB, start by creating a MongoClient object, then specify a connection URL with the correct ip address and the name of the database you want to create.check if the databse is created or not."
   ]
  },
  {
   "cell_type": "code",
   "execution_count": 5,
   "metadata": {},
   "outputs": [
    {
     "name": "stdout",
     "output_type": "stream",
     "text": [
      "['admin', 'config', 'local', 'mydatabase']\n"
     ]
    }
   ],
   "source": [
    "import pymongo\n",
    "myclient=pymongo.MongoClient(\"mongodb://localhost:27017\")\n",
    "mydb=myclient[\"mydatabase\"]\n",
    "print(myclient.list_database_names())"
   ]
  },
  {
   "cell_type": "markdown",
   "metadata": {},
   "source": [
    "create a collection(table) in MongoDB"
   ]
  },
  {
   "cell_type": "code",
   "execution_count": 8,
   "metadata": {},
   "outputs": [
    {
     "name": "stdout",
     "output_type": "stream",
     "text": [
      "['customers']\n"
     ]
    }
   ],
   "source": [
    "mycol=mydb[\"customers\"]\n",
    "print(mydb.list_collection_names())"
   ]
  },
  {
   "cell_type": "markdown",
   "metadata": {},
   "source": [
    "To insert a record, or document as it is called in MongoDB, into a collection, we use the insert_one() method.\n",
    "\n",
    "The first parameter of the insert_one() method is a dictionary containing the name(s) and value(s) of each field in the document you want to insert.\n"
   ]
  },
  {
   "cell_type": "code",
   "execution_count": 19,
   "metadata": {},
   "outputs": [],
   "source": [
    "my_dict=[{\"name\":\"Sunitha\",\"address\":\"suncity apts\"},\n",
    "         {\"name\":\"sridevi\",\"address\":\"parijatha resi\"},\n",
    "         {\"name\":\"Uma\",\"address\":\"pendurthy\"},\n",
    "         {\"name\":\"Mamatha\",\"address\":\"steel plant\"}]\n",
    "x=mycol.insert_many(my_dict)\n"
   ]
  },
  {
   "cell_type": "code",
   "execution_count": 23,
   "metadata": {},
   "outputs": [
    {
     "name": "stdout",
     "output_type": "stream",
     "text": [
      "{'_id': ObjectId('5c8bce777eb8d60f78ea90c8'), 'name': 'Uma', 'address': 'pendurthy'}\n",
      "{'_id': ObjectId('5c8bceb37eb8d60f78ea90cc'), 'name': 'Uma', 'address': 'pendurthy'}\n",
      "{'_id': ObjectId('5c8bceb97eb8d60f78ea90d0'), 'name': 'Uma', 'address': 'pendurthy'}\n",
      "{'_id': ObjectId('5c8bced27eb8d60f78ea90d4'), 'name': 'Uma', 'address': 'pendurthy'}\n"
     ]
    }
   ],
   "source": [
    "mydoc=mycol.find({\"address\":\"pendurthy\"})\n",
    "for x in mydoc:\n",
    "    print(x)"
   ]
  },
  {
   "cell_type": "code",
   "execution_count": null,
   "metadata": {},
   "outputs": [],
   "source": []
  }
 ],
 "metadata": {
  "kernelspec": {
   "display_name": "Python 3",
   "language": "python",
   "name": "python3"
  },
  "language_info": {
   "codemirror_mode": {
    "name": "ipython",
    "version": 3
   },
   "file_extension": ".py",
   "mimetype": "text/x-python",
   "name": "python",
   "nbconvert_exporter": "python",
   "pygments_lexer": "ipython3",
   "version": "3.7.1"
  }
 },
 "nbformat": 4,
 "nbformat_minor": 2
}
